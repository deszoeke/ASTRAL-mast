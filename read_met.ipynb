{
 "cells": [
  {
   "cell_type": "markdown",
   "metadata": {},
   "source": [
    "# Read ASTRAL PSL mean meteorology files\n",
    "## me2: radiometer, sea snake, pressure\n",
    "## me1: ORG, "
   ]
  },
  {
   "cell_type": "code",
   "execution_count": 1,
   "metadata": {},
   "outputs": [
    {
     "name": "stderr",
     "output_type": "stream",
     "text": [
      "\u001b[32m\u001b[1m  Activating\u001b[22m\u001b[39m project at `~/Projects/ASTRAL/mast`\n"
     ]
    }
   ],
   "source": [
    "# usings\n",
    "\n",
    "using Pkg; Pkg.activate(\".\")\n",
    "using Dates\n",
    "using Printf\n",
    "using PyPlot\n",
    "\n",
    "# general PSL DAS readers\n",
    "include(\"./readers.jl\")\n",
    "using .NoaaDas"
   ]
  },
  {
   "cell_type": "code",
   "execution_count": 2,
   "metadata": {},
   "outputs": [
    {
     "data": {
      "text/plain": [
       "permutedims (generic function with 13 methods)"
      ]
     },
     "execution_count": 2,
     "metadata": {},
     "output_type": "execute_result"
    }
   ],
   "source": [
    "m2n(x) = ismissing(x) ? NaN : x\n",
    "pd = permutedims"
   ]
  },
  {
   "cell_type": "code",
   "execution_count": 8,
   "metadata": {},
   "outputs": [
    {
     "data": {
      "text/plain": [
       "22-element Vector{Symbol}:\n",
       " :time\n",
       " :Batt_Volt\n",
       " :PTemp\n",
       " :Case1_R\n",
       " :Case1_T\n",
       " :Dome1_R\n",
       " :Dome1_T\n",
       " :Case2_R\n",
       " :Case2_T\n",
       " :Dome2_R\n",
       " :Dome2_T\n",
       " :PIR1_V\n",
       " :PIR1_wm2\n",
       " :PSP1_V\n",
       " :PSP1_wm2\n",
       " :PIR2_V\n",
       " :PIR2_wm2\n",
       " :PSP2_V\n",
       " :PSP2_wm2\n",
       " :Snake_R\n",
       " :Snake_C\n",
       " :BP_hpa"
      ]
     },
     "execution_count": 8,
     "metadata": {},
     "output_type": "execute_result"
    }
   ],
   "source": [
    "mastdir = \"./data/PSL/\"\n",
    "\n",
    "# keys for me1 format\n",
    "me1keys = Symbol.(split(\"\"\"time\n",
    "    Batt_Volt\n",
    "    PTemp\n",
    "    ORG_Car_v\n",
    "    ORG_Sig_v\n",
    "    ORG_mmhr\n",
    "    airflow\n",
    "    No_data\n",
    "    No_data\n",
    "    Tair\n",
    "    RH\n",
    "    Std_Dev_airflow\"\"\"))\n",
    "\n",
    "# keys for me2 format\n",
    "me2keys = Symbol.(split(\"\"\"time\n",
    "    Batt_Volt\n",
    "    PTemp\n",
    "    Case1_R\n",
    "    Case1_T\n",
    "    Dome1_R\n",
    "    Dome1_T\n",
    "    Case2_R\n",
    "    Case2_T\n",
    "    Dome2_R\n",
    "    Dome2_T\n",
    "    PIR1_V\n",
    "    PIR1_wm2\n",
    "    PSP1_V\n",
    "    PSP1_wm2\n",
    "    PIR2_V\n",
    "    PIR2_wm2\n",
    "    PSP2_V\n",
    "    PSP2_wm2\n",
    "    Snake_R\n",
    "    Snake_C\n",
    "    BP_hpa\"\"\"))"
   ]
  },
  {
   "cell_type": "code",
   "execution_count": 4,
   "metadata": {},
   "outputs": [],
   "source": [
    "# read and plot an example day\n",
    "\n",
    "#=\n",
    "prefix = \"me2\"\n",
    "dt = Date(2024,5,8) # for datestamp in filter(startswith(\"2024\"), readdir(mastdir))\n",
    "# get_das_pathfiles(prefix, dt)\n",
    "pathfilenames = get_das_pathfiles(prefix, dt)[7]\n",
    "# filter(startswith(\"me2\"), readdir(joinpath(mastdir, string(yday(dt)))))[1]\n",
    "Me2day = read_das_dict(get_das_pathfiles(\"me2\", dt), me2keys; ncolumn=21)\n",
    "Me1day = read_das_dict(get_das_pathfiles(\"me1\", dt), me1keys; ncolumn=11)\n",
    "delete!(Me1day, :No_data) # delete blank column(s) from Dict\n",
    "=#"
   ]
  },
  {
   "cell_type": "code",
   "execution_count": 5,
   "metadata": {},
   "outputs": [
    {
     "data": {
      "text/plain": [
       "plot_trh_org"
      ]
     },
     "execution_count": 5,
     "metadata": {},
     "output_type": "execute_result"
    }
   ],
   "source": [
    "# plot Me2 variables\n",
    "\n",
    "\"loads and plots me2 variable group: radiometers, temperature, pressure\"\n",
    "function plot_me2(yd)\n",
    "    dt = Date(2023,12,31) + Day(yd)\n",
    "    Me2day = read_das_dict(get_das_pathfiles(\"me2\", dt), me2keys; ncolumn=21)\n",
    "    dtf = Dates.format(Me2day[:time][5], dateformat\"yyyy-mm-dd\")\n",
    "    dh = decimal_hour.(Me2day[:time])\n",
    "    \n",
    "    # Me2 variable groups\n",
    "    Vkey = filter(x -> endswith(String(x), \"_V\")    , me2keys)\n",
    "    Tkey = filter(x -> endswith(String(x), r\"_T|_C\"), me2keys)\n",
    "    Wkey = filter(x -> endswith(String(x), \"_wm2\"  ), me2keys)\n",
    "    \n",
    "    dh = decimal_hour.(Me2day[:time])\n",
    "    \n",
    "    # quick plot 1 day\n",
    "    clf()\n",
    "    subplot(2,2,1)\n",
    "    for k in Tkey[1:4]\n",
    "        plot(m2n.(dh), m2n.(Me2day[k]), label=String(k))\n",
    "    end\n",
    "    legend()\n",
    "    title(\"radiometer temperatures\")\n",
    "    \n",
    "    subplot(2,2,2)\n",
    "    for k in Tkey[5:end]\n",
    "        plot(m2n.(dh), m2n.(Me2day[k]), label=String(k))\n",
    "    end\n",
    "    plot(m2n.(dh), m2n.(Me2day[:PTemp]), label=\"PTemp\")\n",
    "    legend()\n",
    "    title(\"snake and PT temperature\")\n",
    "    \n",
    "    subplot(2,2,3)\n",
    "    for k in Wkey\n",
    "        plot(m2n.(dh), m2n.(Me2day[k]))\n",
    "    end\n",
    "    title(\"W/m2\")\n",
    "    legend((String.(Wkey)))\n",
    "    \n",
    "    subplot(2,2,4)\n",
    "    plot(m2n.(dh), m2n.(Me2day[:BP_hpa]))\n",
    "    title(\"pressure\")\n",
    "    \n",
    "    # legend(\"BP_hpa\")\n",
    "    # subplot(2,2,4)\n",
    "    # for k in Vkey\n",
    "    #     plot(m2n.(dh), m2n.(Me2day[k]))\n",
    "    # end\n",
    "    # title(\"voltage\")\n",
    "    # legend((String.(Vkey)))\n",
    "    \n",
    "    tight_layout()\n",
    "    return dtf\n",
    "end\n",
    "\n",
    "\"loads data and makes a daily png plot of rain, T, RH\"\n",
    "function plot_trh_org(yd)\n",
    "    dt = Date(2023,12,31) + Day(yd)\n",
    "    Me1day = read_das_dict(get_das_pathfiles(\"me1\", dt), me1keys; ncolumn=11)\n",
    "    dtf = Dates.format(Me1day[:time][5], dateformat\"yyyy-mm-dd\")\n",
    "    dh = decimal_hour.(Me1day[:time])\n",
    "    \n",
    "    clf()\n",
    "    subplot(3,1,1)\n",
    "    plot(dh, m2n.(Me1day[:ORG_mmhr]))\n",
    "    ylabel(\"rain (mm/h)\")\n",
    "    title(dtf)\n",
    "\n",
    "    subplot(3,1,2)\n",
    "    plot(dh, m2n.(Me1day[:Tair]))\n",
    "    ylabel(\"Tair (C)\")\n",
    "\n",
    "    subplot(3,1,3)\n",
    "    plot(dh, m2n.(Me1day[:RH]))\n",
    "    ylabel(\"RH (%)\")\n",
    "    xlabel(\"hour\")\n",
    "\n",
    "    tight_layout()\n",
    "    return dtf\n",
    "end"
   ]
  },
  {
   "cell_type": "code",
   "execution_count": 9,
   "metadata": {},
   "outputs": [
    {
     "name": "stdout",
     "output_type": "stream",
     "text": [
      "missing_days = Any[147, 148, 149, 150]\n"
     ]
    },
    {
     "data": {
      "image/png": "[encoded data removed]",
      "text/plain": [
       "Figure(PyObject <Figure size 640x480 with 3 Axes>)"
      ]
     },
     "metadata": {},
     "output_type": "display_data"
    },
    {
     "data": {
      "text/plain": [
       "4-element Vector{Any}:\n",
       " 147\n",
       " 148\n",
       " 149\n",
       " 150"
      ]
     },
     "execution_count": 9,
     "metadata": {},
     "output_type": "execute_result"
    }
   ],
   "source": [
    "# quick plot daily me2, me1 data\n",
    "missing_days = []\n",
    "for yd in 140:150\n",
    "    if isdir(joinpath(mastdir,\"$yd\"))\n",
    "        dtf = plot_me2(yd)\n",
    "        savefig(joinpath(mastdir,\"plot\",\"T_radmr_$(yd)_$dtf.png\"))\n",
    "\n",
    "        plot_trh_org(yd)\n",
    "        savefig(joinpath(mastdir,\"plot\",\"trh_org_$(yd)_$dtf.png\"))\n",
    "    else\n",
    "        push!(missing_days, yd)\n",
    "    end\n",
    "end\n",
    "@show missing_days"
   ]
  },
  {
   "cell_type": "code",
   "execution_count": null,
   "metadata": {},
   "outputs": [],
   "source": []
  }
 ],
 "metadata": {
  "kernelspec": {
   "display_name": "julia 1.10.3",
   "language": "julia",
   "name": "julia-1.10"
  },
  "language_info": {
   "file_extension": ".jl",
   "mimetype": "application/julia",
   "name": "julia",
   "version": "1.10.3"
  }
 },
 "nbformat": 4,
 "nbformat_minor": 2
}
