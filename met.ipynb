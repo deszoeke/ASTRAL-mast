{
 "cells": [
  {
   "cell_type": "markdown",
   "metadata": {},
   "source": [
    "# Read an hourly ASTRAL PSL ME2 mean meteorology file\n",
    "## containing radiometer, sea snake, pressure"
   ]
  },
  {
   "cell_type": "code",
   "execution_count": 1,
   "metadata": {},
   "outputs": [
    {
     "name": "stderr",
     "output_type": "stream",
     "text": [
      "\u001b[32m\u001b[1m  Activating\u001b[22m\u001b[39m project at `~/Projects/ASTRAL/mast`\n"
     ]
    }
   ],
   "source": [
    "using Pkg; Pkg.activate(\".\")\n",
    "using Dates\n",
    "using Printf\n",
    "using PyPlot"
   ]
  },
  {
   "cell_type": "code",
   "execution_count": 2,
   "metadata": {},
   "outputs": [
    {
     "data": {
      "text/plain": [
       "psldatetime (generic function with 6 methods)"
      ]
     },
     "execution_count": 2,
     "metadata": {},
     "output_type": "execute_result"
    }
   ],
   "source": [
    "# utility functions\n",
    "baseyear = 2024\n",
    "mastdir = \"./data/PSL/\"\n",
    "\n",
    "m2n(x) = ismissing(x) ? NaN : x\n",
    "\n",
    "pd = permutedims\n",
    "\n",
    "\"yearday from Date or DateTime\"\n",
    "yday(dt) = Dates.value(Date(dt) - Date(year(dt)-1,12,31))\n",
    "yday(ddd::String) = parse(Int, ddd)\n",
    "\n",
    "\"return all filenames with prefix and date dt\"\n",
    "function get_das_filenames(prefix, yd::Integer, mastdir=mastdir)\n",
    "    filter(startswith(prefix), \n",
    "           readdir(joinpath(mastdir, @sprintf(\"%03d\",yd))))\n",
    "end\n",
    "function get_das_filenames(prefix, dt::Date, mastdir=mastdir)\n",
    "    get_das_filenames(prefix, yday(dt), mastdir)\n",
    "end\n",
    "\"return filenames with prefix matching hour of dt\"\n",
    "function get_das_filenames(prefix, dt::DateTime, mastdir=mastdir)\n",
    "    hh = @sprintf(\"%02d\", Dates.value(Hour(dt)))\n",
    "    filter( endswith(hh*\"_raw.txt\"),\n",
    "            get_das_filenames(prefix, Date(dt), mastdir) )\n",
    "end\n",
    "\n",
    "\"return vector of full paths of all files with prefix and date\"\n",
    "function get_das_pathfiles(prefix, dt, mastdir=mastdir)\n",
    "    joinpath.(mastdir,\n",
    "              @sprintf(\"%03d\",yday(dt)),\n",
    "              get_das_filenames(prefix, dt, mastdir))\n",
    "end\n",
    "\n",
    "\"Convert a PSL date to a DateTime.\"\n",
    "function psldatetime(d::Date, hr::Integer, psltime::String)\n",
    "    mm  = Minute(     parse(Int32, psltime[1:2]))\n",
    "    SS  = Second(     parse(Int32, psltime[3:4]))\n",
    "    sss = Millisecond(parse(Int32, psltime[5:7]))\n",
    "    DateTime(Date(d)) + Hour(hr) + mm + SS + sss\n",
    "end\n",
    "function psldatetime(d::Date, hr::Integer=0, minute::Real=0)\n",
    "    DateTime(Date(d)) + Hour(hr) + Minute(minute) + Second(second)\n",
    "end\n",
    "function psldatetime(yearday::Integer, hr::Integer=0; minute::Real=0, year=baseyear)\n",
    "    DateTime(year,12,31) + Day(yearday) + Hour(hr) + Minute(minute)\n",
    "end\n",
    "# psldatetime(Date(2024,5,8), hr, \"0606111\")\n",
    "# To get filename from the date, hour\n",
    "# psldatefile(prefix, psldatetime(d, hr, psltime))"
   ]
  },
  {
   "cell_type": "code",
   "execution_count": 15,
   "metadata": {},
   "outputs": [
    {
     "data": {
      "text/plain": [
       "das_dict"
      ]
     },
     "execution_count": 15,
     "metadata": {},
     "output_type": "execute_result"
    }
   ],
   "source": [
    "# readers\n",
    "\n",
    "# file format default parameters\n",
    "nheader = 1\n",
    "# dt = DateTime(2024,5,8,11,0,0)\n",
    "# pathfilename = get_das_pathfiles(prefix, dt::DateTime, mastdir=mastdir)\n",
    "\n",
    "\"read das data and put in a dictionary\"\n",
    "function read_das_dict(pathfilename, keys;\n",
    "    nheader=nheader,\n",
    "    nsample=countlines(pathfilename) - nheader,\n",
    "    ncolumn=length(keys) )\n",
    "\n",
    "    # read data from file\n",
    "    datatime, X = read_das_data(pathfilename; \n",
    "        nheader=nheader,\n",
    "        nsample=countlines(pathfilename) - nheader,\n",
    "        ncolumn=length(keys) )\n",
    "    \n",
    "    return das_dict(keys, datatime, X) # returns dict\n",
    "end\n",
    "\n",
    "\"read das file data\"\n",
    "function read_das_data(pathfilename;\n",
    "    nheader=nheader,\n",
    "    nsample=countlines(pathfilename) - nheader,\n",
    "    ncolumn=ncolumn )\n",
    "\n",
    "    # preallocate the data\n",
    "    psltime = Vector{String}(undef, nsample) # will point to data as it is read\n",
    "    X = Array{Union{Float32,Missing}, 2}(undef, nsample, ncolumn-1)\n",
    "    fill!(X, missing)\n",
    "\n",
    "    open(pathfilename) do file\n",
    "        for _ in 1:nheader\n",
    "            readline(file) # skip header\n",
    "        end\n",
    "        nl = 0\n",
    "        for line in readlines(file)\n",
    "            nl += 1\n",
    "            splt = split(line, [' ',',','\\t'])\n",
    "            psltime[nl] = splt[1]\n",
    "            dataline = parse.(Float32, splt[2:end])\n",
    "            nx = min(ncolumn, length(dataline))\n",
    "            X[nl,1:nx] .= dataline[1:nx]\n",
    "        end\n",
    "    end\n",
    "\n",
    "    # find hour from the filename\n",
    "    shortfilename = last(splitpath(pathfilename))\n",
    "    ddd = shortfilename[6:8]\n",
    "    ydy = yday(ddd)\n",
    "    hr = parse(Int32, shortfilename[end-10:end-9])\n",
    "    psldt = psldatetime.(ydy, hr)\n",
    "    return psldt, X\n",
    "end\n",
    "\n",
    "# Dicts are just mutable groups bound to data.\n",
    "# Data in dictionaries don't need to be allocated.\n",
    "\n",
    "\"assign data to a dict of keys\"\n",
    "function das_dict(keys, datatime, X)\n",
    "    D = Dict{eltype(keys), Any}()\n",
    "\n",
    "    # special DateTime\n",
    "    D[keys[1]] = datatime \n",
    "    # fill rest of dictionary\n",
    "    for (ik, ky) in enumerate(keys[2:end])\n",
    "        D[ky] = X[:, ik]\n",
    "    end\n",
    "    return D\n",
    "end"
   ]
  },
  {
   "cell_type": "code",
   "execution_count": 16,
   "metadata": {},
   "outputs": [
    {
     "data": {
      "text/plain": [
       "22-element Vector{Symbol}:\n",
       " :time\n",
       " :Batt_Volt\n",
       " :PTemp\n",
       " :Case1_R\n",
       " :Case1_T\n",
       " :Dome1_R\n",
       " :Dome1_T\n",
       " :Case2_R\n",
       " :Case2_T\n",
       " :Dome2_R\n",
       " :Dome2_T\n",
       " :PIR1_V\n",
       " :PIR1_wm2\n",
       " :PSP1_V\n",
       " :PSP1_wm2\n",
       " :PIR2_V\n",
       " :PIR2_wm2\n",
       " :PSP2_V\n",
       " :PSP2_wm2\n",
       " :Snake_R\n",
       " :Snake_C\n",
       " :BP_hpa"
      ]
     },
     "execution_count": 16,
     "metadata": {},
     "output_type": "execute_result"
    }
   ],
   "source": [
    "# define keys for me2 format\n",
    "me2keys = Symbol.(split(\n",
    "    \"\"\"time\n",
    "    Batt_Volt\n",
    "    PTemp\n",
    "    Case1_R\n",
    "    Case1_T\n",
    "    Dome1_R\n",
    "    Dome1_T\n",
    "    Case2_R\n",
    "    Case2_T\n",
    "    Dome2_R\n",
    "    Dome2_T\n",
    "    PIR1_V\n",
    "    PIR1_wm2\n",
    "    PSP1_V\n",
    "    PSP1_wm2\n",
    "    PIR2_V\n",
    "    PIR2_wm2\n",
    "    PSP2_V\n",
    "    PSP2_wm2\n",
    "    Snake_R\n",
    "    Snake_C\n",
    "    BP_hpa\"\"\"))"
   ]
  },
  {
   "cell_type": "code",
   "execution_count": 24,
   "metadata": {},
   "outputs": [
    {
     "data": {
      "text/plain": [
       "4-element Vector{Symbol}:\n",
       " :PIR1_wm2\n",
       " :PSP1_wm2\n",
       " :PIR2_wm2\n",
       " :PSP2_wm2"
      ]
     },
     "execution_count": 24,
     "metadata": {},
     "output_type": "execute_result"
    }
   ],
   "source": [
    "# read an example file\n",
    "# mastdir = \"./data/PSL/\"\n",
    "prefix = \"me2\"\n",
    "dt = Date(2024,05,08) # for datestamp in filter(startswith(\"2024\"), readdir(mastdir))\n",
    "# get_das_pathfiles(prefix, dt)\n",
    "pathfilename = get_das_pathfiles(prefix, dt)[1]\n",
    "# filter(startswith(\"me2\"), readdir(joinpath(mastdir, string(yday(dt)))))[1]\n",
    "\n",
    "datatime, X = read_das_data(pathfilename; ncolumn=length(me1keys))\n",
    "Me2 = read_das_dict(pathfilename, me1keys)\n",
    "\n",
    "Vkey = filter(x -> endswith(String(x), \"_V\")    , me1keys)\n",
    "Tkey = filter(x -> endswith(String(x), r\"_T|_C\"), me1keys)\n",
    "Wkey = filter(x -> endswith(String(x), \"_wm2\"  ), me1keys)\n",
    "\n",
    "# quick plot 1 hour\n",
    "clf()\n",
    "subplot(2,2,1)\n",
    "for k in Tkey\n",
    "    plot(m2n.(Me1[k]))\n",
    "end\n",
    "plot(m2n.(Me1[:PTemp]))\n",
    "title(\"temperature\")\n",
    "legend((String.(Tkey)..., \"PTemp\"))\n",
    "\n",
    "subplot(2,2,2)\n",
    "plot(m2n.(Me1[:BP_hpa]))\n",
    "title(\"pressure\")\n",
    "# legend(\"BP_hpa\")\n",
    "\n",
    "subplot(2,2,4)\n",
    "for k in Vkey\n",
    "    plot(m2n.(Me1[k]))\n",
    "end\n",
    "title(\"voltage\")\n",
    "legend((String.(Vkey)))\n",
    "\n",
    "subplot(2,2,3)\n",
    "for k in Wkey\n",
    "    plot(m2n.(Me1[k]))\n",
    "end\n",
    "title(\"W/m2\")\n",
    "legend((String.(Wkey)))\n",
    "\n",
    "tight_layout()"
   ]
  }
 ],
 "metadata": {
  "kernelspec": {
   "display_name": "julia 1.10.3",
   "language": "julia",
   "name": "julia-1.10"
  },
  "language_info": {
   "file_extension": ".jl",
   "mimetype": "application/julia",
   "name": "julia",
   "version": "1.10.3"
  }
 },
 "nbformat": 4,
 "nbformat_minor": 2
}
