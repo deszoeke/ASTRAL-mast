{
 "cells": [
  {
   "cell_type": "code",
   "execution_count": null,
   "metadata": {},
   "outputs": [],
   "source": [
    "\"\"\"\n",
    "04/28/2024 00:00 Generic with ASCII Output (SN: 000000)\n",
    "0000070 03,00,-02.68,+04.49,+00.51,+35.91,0A\n",
    "0000179 04,00,-02.68,+04.49,+00.53,+35.89,06\n",
    "0000272 05,00,-02.63,+04.47,+00.55,+35.92,0E\n",
    "0000366 06,01,-02.67,+04.54,+00.65,+35.92,09\n",
    "0000460 01,10,-02.82,+04.45,+00.55,+35.93,07\n",
    "0000569 02,38,-02.64,+04.46,+00.54,+35.91,06\n",
    "0000662 03,00,-02.50,+04.49,+00.59,+35.92,0A\n",
    "0000772 04,00,-02.51,+04.44,+00.59,+35.91,02\n",
    "0000865 05,00,-02.62,+04.35,+00.54,+35.93,0A\n",
    "\"\"\""
   ]
  },
  {
   "cell_type": "code",
   "execution_count": null,
   "metadata": {},
   "outputs": [],
   "source": [
    "# usings\n",
    "\n",
    "using Pkg; Pkg.activate(\".\")\n",
    "using Dates\n",
    "using Printf\n",
    "using PyPlot"
   ]
  }
 ],
 "metadata": {
  "kernelspec": {
   "display_name": "julia 1.10.3",
   "language": "julia",
   "name": "julia-1.10"
  },
  "language_info": {
   "name": "julia"
  }
 },
 "nbformat": 4,
 "nbformat_minor": 2
}
