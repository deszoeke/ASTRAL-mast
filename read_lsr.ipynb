{
 "cells": [
  {
   "cell_type": "code",
   "execution_count": 1,
   "metadata": {},
   "outputs": [
    {
     "name": "stderr",
     "output_type": "stream",
     "text": [
      "\u001b[32m\u001b[1m  Activating\u001b[22m\u001b[39m project at `~/Projects/ASTRAL/mast`\n"
     ]
    }
   ],
   "source": [
    "# usings\n",
    "\n",
    "using Pkg; Pkg.activate(\".\")\n",
    "using Dates\n",
    "# using Regex\n",
    "using Interpolations\n",
    "using Printf\n",
    "using PyPlot\n",
    "\n",
    "# general PSL DAS readers\n",
    "include(\"./readers.jl\")\n",
    "using .NoaaDas\n",
    "\n",
    "# data = \"\"\"5958832 r14.932;a73;q100\n",
    "# 5959238 r15.297;a29;q87\"\"\""
   ]
  },
  {
   "cell_type": "code",
   "execution_count": 2,
   "metadata": {},
   "outputs": [
    {
     "data": {
      "text/plain": [
       "read_lsr_dict (generic function with 1 method)"
      ]
     },
     "execution_count": 2,
     "metadata": {},
     "output_type": "execute_result"
    }
   ],
   "source": [
    "line = \"\"\"5958832 r14.932;a73;q100\"\"\"\n",
    "baseyear = 2024\n",
    "\n",
    "#=\n",
    "function parse_lsr_line(line, \n",
    "    lsr_regex=r\"^([\\d]{2})([\\d]{2})([\\d]{3}) r([\\d\\.]+);a([\\d]{2});q([\\d]{2,3})\" )\n",
    "    \n",
    "    M = match(lsr_regex, line).captures\n",
    "    minut, secnd, millisecnd, A, Q = parse.(Int32, M[[1:3; 5:6]])\n",
    "    R = parse.(Float32, M[4])\n",
    "    minut, secnd, millisecnd, R, A, Q\n",
    "end\n",
    "=#\n",
    "\n",
    "function read_lsr_dict( pathfilenames; \n",
    "    nheader=1, ncol=3, baseyear=2024,\n",
    "    nrows=sum( countlines.(pathfilenames) .- nheader ),\n",
    "    lsrkeys = [:time, :R, :A, :Q],\n",
    "    lsr_regex=r\"^([\\d]{2})([\\d]{2})([\\d]{3}) r([\\d\\.]+);a([\\d]{2});q([\\d]{2,3})\" )\n",
    "    \n",
    "    psldt = Vector{DateTime}(undef, nrows)\n",
    "    R = Vector{Float32}(undef, nrows)\n",
    "    A = Vector{Int32}(undef, nrows)\n",
    "    Q = Vector{Int32}(undef, nrows)\n",
    "\n",
    "    nl = 0\n",
    "    # make even one file iterable\n",
    "    p = pathfilenames isa Vector ? pathfilenames : Ref(pathfilenames)\n",
    "    for f in p\n",
    "        # find hour from the filename\n",
    "        shortfilename = last(splitpath(f))\n",
    "        ddd = shortfilename[end-12:end-10]\n",
    "        basedt = Date(baseyear-1,12,31) + Day(yday(ddd))\n",
    "        hr = parse(Int32, shortfilename[end-9:end-8])\n",
    "        open(f) do file\n",
    "            for _ in 1:nheader\n",
    "                readline(file) # skip header\n",
    "            end\n",
    "            for line in readlines(file)\n",
    "                M = match(lsr_regex, line)\n",
    "                if !isnothing(M) && !isempty(M)\n",
    "                    nl += 1\n",
    "                    minut, secnd, millisecnd, A[nl], Q[nl] = parse.(Int32, M.captures[[1:3; 5:6]])\n",
    "                    R[nl] = parse.(Float32, M.captures[4])\n",
    "                    psldt[nl] = psldatetime(basedt, hr, minut, secnd, millisecnd)\n",
    "                end\n",
    "            end\n",
    "        end\n",
    "    end\n",
    "    # return truncated data in dictionary\n",
    "    D = NoaaDas.das_dict(lsrkeys, psldt[1:nl], [R[1:nl] A[1:nl] Q[1:nl]])\n",
    "end\n"
   ]
  },
  {
   "cell_type": "code",
   "execution_count": 3,
   "metadata": {},
   "outputs": [
    {
     "data": {
      "text/plain": [
       "Dict{Symbol, Any} with 4 entries:\n",
       "  :R    => Float32[14.132, 14.161, 14.201, 14.233, 14.261, 14.307, 14.393, 14.4…\n",
       "  :A    => Float32[44.0, 41.0, 48.0, 44.0, 40.0, 29.0, 29.0, 32.0, 30.0, 34.0  …\n",
       "  :Q    => Float32[84.0, 100.0, 100.0, 100.0, 100.0, 90.0, 85.0, 100.0, 100.0, …\n",
       "  :time => [DateTime(\"2024-05-26T00:00:00.609\"), DateTime(\"2024-05-26T00:00:00.…"
      ]
     },
     "execution_count": 3,
     "metadata": {},
     "output_type": "execute_result"
    }
   ],
   "source": [
    "pfn = get_das_pathfiles(\"lsr\", today()-Day(1))\n",
    "Lsr = read_lsr_dict(pfn)"
   ]
  },
  {
   "cell_type": "code",
   "execution_count": 16,
   "metadata": {},
   "outputs": [
    {
     "data": {
      "image/png": "[encoded data removed]",
      "text/plain": [
       "Figure(PyObject <Figure size 640x480 with 1 Axes>)"
      ]
     },
     "metadata": {},
     "output_type": "display_data"
    },
    {
     "data": {
      "text/plain": [
       "(19869.4375, 19869.437847222223)"
      ]
     },
     "execution_count": 16,
     "metadata": {},
     "output_type": "execute_result"
    }
   ],
   "source": [
    "ii = (Lsr[:Q] .> 80) .& (Lsr[:R] .> sqrt.(Lsr[:A]))\n",
    "clf(); subplot(2,1,1)\n",
    "# plot(Lsr[:time][ii], Lsr[:Q][ii], linestyle=\"none\", marker=\".\")\n",
    "# plot(Lsr[:time][ii], Lsr[:A][ii], linestyle=\"none\", marker=\".\", markersize=1)\n",
    "ii = (Lsr[:Q] .> 50) .& (Lsr[:R] .> sqrt.(Lsr[:A]))\n",
    "plot(Lsr[:time][ii], Lsr[:R][ii], linestyle=\"none\", marker=\".\", markersize=1)\n",
    "# ii = (Lsr[:R] .> sqrt.(Lsr[:A]))\n",
    "# plot(Lsr[:time][ii], Lsr[:R][ii], linestyle=\"none\", marker=\".\", markersize=1)\n",
    "ii = (Lsr[:Q] .>= 80)\n",
    "plot(Lsr[:time][ii], Lsr[:R][ii], linestyle=\"none\", marker=\".\", markersize=1)\n",
    "xlim([DateTime(2024,5,26,10,30), DateTime(2024,5,26,10,30,30)])"
   ]
  },
  {
   "cell_type": "code",
   "execution_count": 27,
   "metadata": {},
   "outputs": [
    {
     "data": {
      "text/plain": [
       "1104975-element Vector{Int64}:\n",
       " 63852364800609\n",
       " 63852364800671\n",
       " 63852364800717\n",
       " 63852364800764\n",
       " 63852364800811\n",
       " 63852364800874\n",
       " 63852364800921\n",
       " 63852364800967\n",
       " 63852364801014\n",
       " 63852364801076\n",
       " 63852364801123\n",
       " 63852364801170\n",
       " 63852364801232\n",
       "              ⋮\n",
       " 63852451198974\n",
       " 63852451199176\n",
       " 63852451199286\n",
       " 63852451199488\n",
       " 63852451199535\n",
       " 63852451199581\n",
       " 63852451199629\n",
       " 63852451199691\n",
       " 63852451199738\n",
       " 63852451199785\n",
       " 63852451199941\n",
       " 63852451199987"
      ]
     },
     "execution_count": 27,
     "metadata": {},
     "output_type": "execute_result"
    }
   ],
   "source": [
    "Dates.value.(Lsr[:time][ii])"
   ]
  },
  {
   "cell_type": "code",
   "execution_count": 53,
   "metadata": {},
   "outputs": [
    {
     "data": {
      "text/plain": [
       "interpit"
      ]
     },
     "execution_count": 53,
     "metadata": {},
     "output_type": "execute_result"
    }
   ],
   "source": [
    "\"convert DateTime to a Number (milliseconds) delta relative to offset\"\n",
    "itime(dt, offst=DateTime(2024,4,1)) = Dates.value(dt - offst)\n",
    "\n",
    "\"linear interpolation function with DateTime coordinate\"\n",
    "function interpit(dt::AbstractVector{DateTime}, x::AbstractVector{<:Number})\n",
    "    itp_core = interpolate( (itime.(dt),), x, Gridded(Linear()) )\n",
    "    itp(dt) = itp_core( itime(dt) )\n",
    "    return itp\n",
    "end"
   ]
  },
  {
   "cell_type": "code",
   "execution_count": 55,
   "metadata": {},
   "outputs": [
    {
     "data": {
      "image/png": "[encoded data removed]",
      "text/plain": [
       "Figure(PyObject <Figure size 640x480 with 1 Axes>)"
      ]
     },
     "metadata": {},
     "output_type": "display_data"
    },
    {
     "data": {
      "text/plain": [
       "(19869.4375, 19869.438194444443)"
      ]
     },
     "execution_count": 55,
     "metadata": {},
     "output_type": "execute_result"
    }
   ],
   "source": [
    "ii = (Lsr[:Q] .> 50)\n",
    "itplsr = interpit(Lsr[:time][ii], Lsr[:R][ii])\n",
    "cdt = DateTime(2024,5,26,0,0,5):Millisecond(500):DateTime(2024,5,26,23,59,55)\n",
    "# take care not to get a BoundsError!\n",
    "# ilsr = itplsr(cdt)\n",
    "\n",
    "clf(); subplot(2,1,1)\n",
    "plot(cdt, itplsr.(cdt), linewidth=1)\n",
    "plot(Lsr[:time][ii], Lsr[:R][ii], linestyle=\"none\", marker=\".\", markersize=1)\n",
    "xlim([DateTime(2024,5,26,10,30), DateTime(2024,5,26,10,31)])"
   ]
  },
  {
   "cell_type": "markdown",
   "metadata": {},
   "source": []
  },
  {
   "cell_type": "code",
   "execution_count": null,
   "metadata": {},
   "outputs": [],
   "source": []
  }
 ],
 "metadata": {
  "kernelspec": {
   "display_name": "julia 1.10.3",
   "language": "julia",
   "name": "julia-1.10"
  },
  "language_info": {
   "file_extension": ".jl",
   "mimetype": "application/julia",
   "name": "julia",
   "version": "1.10.3"
  }
 },
 "nbformat": 4,
 "nbformat_minor": 2
}
